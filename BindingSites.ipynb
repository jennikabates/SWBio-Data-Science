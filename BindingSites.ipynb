{
 "cells": [
  {
   "cell_type": "markdown",
   "id": "e438ebde-d972-49f4-8a6b-d4c47a989eb6",
   "metadata": {},
   "source": [
    "# Background \n",
    "- Putative enhancers have been identified that may potentially regulate Sox10\n",
    "- These are named Z1-Z10\n",
    "- Several different transcription factors have been shown to regulate Sox10\n",
    "- Amongst them are Sox9, Sox10 itself, and Pax3\n",
    "- This code will test whether the putative enhancer sequences contain Sox binding sites, Pax3 binding sites, or both"
   ]
  },
  {
   "cell_type": "markdown",
   "id": "4f1803bb-1089-4b18-b94f-66e95a77382e",
   "metadata": {},
   "source": [
    "# Write sequences into new FASTA file records\n",
    "The putative enhancer sequences were obtained from interesting regions of the danRer10 UCSC zebrafish genome alignment. This code uses the SeqIO package to write the sequences to FASTA files."
   ]
  },
  {
   "cell_type": "code",
   "execution_count": 2,
   "id": "dbaa2189-dbca-4302-ad43-77c9756cdef2",
   "metadata": {
    "tags": []
   },
   "outputs": [],
   "source": [
    "#import the packages I need \n",
    "from Bio.Seq import Seq\n",
    "from Bio.SeqRecord import SeqRecord\n",
    "from Bio import SeqIO\n",
    "import urllib\n"
   ]
  },
  {
   "cell_type": "code",
   "execution_count": 36,
   "id": "88bcfa41-c769-4230-8c0e-a0c7d2918bfc",
   "metadata": {
    "tags": []
   },
   "outputs": [],
   "source": [
    "#these are the sequences of potential Sox10 enhancers\n",
    "#and are numbered starting at the Sox10 transcriptional start site\n",
    "#they will also be tagged with a chromosome position identifier\n",
    "#which is obtained from the UCSC genome browser alignment"
   ]
  },
  {
   "cell_type": "code",
   "execution_count": 17,
   "id": "93b7a48a-f094-4d4d-a01f-f3c9797174f5",
   "metadata": {
    "tags": []
   },
   "outputs": [
    {
     "data": {
      "text/plain": [
       "1"
      ]
     },
     "execution_count": 17,
     "metadata": {},
     "output_type": "execute_result"
    }
   ],
   "source": [
    "danRer10_Z1 = SeqRecord(\n",
    "    Seq(\"AAAAAGTTTAAGATCTGAATTAAAAGTAAGATGCCCCTGTGAGAGGCCAAATATTACTGTCGTTGATTTGCAGCCGAAATCACCGCCCTCTGGGGCAAAACTCAGCAGCCAATCAGAGCGGGACCCGACAGGGCTCTGTTGCTCCTTTAAGAGATTTTTTCCATGAATTGATTTTTTTCTCGCTCTTCACACAACGGGGCTCTTTAAGCCTCGACGCGCGACACAGAGCAGGCATTCAGAGCGCGAGCGAGGGGGCTGAACCGACGGACTCTCGCGCTGGGCGGGCGACCTGCTGCACTGTAAAGTAAGTGCATTACTGGCTTTCTCTCTATCGCTTACTCTGTGTGGGAATATATACGCCATTGCACTGTCTAGCGGAGAAACTTTTACATTTCTTATTAGTAATAATACTACTAATAATAAGCGGTGCATTTATAAACGACATCTACTTATTTTAGATTT\",),\n",
    "    id = \"chr3:2012885-2013346\",\n",
    "    description = \"Z1 element [danRer10]\",)\n",
    "SeqIO.write([danRer10_Z1], \"danRer10_Z1.faa\", \"fasta\")"
   ]
  },
  {
   "cell_type": "code",
   "execution_count": 18,
   "id": "11e45242-17d6-49c0-a2cc-b53c670b1b38",
   "metadata": {
    "tags": []
   },
   "outputs": [
    {
     "data": {
      "text/plain": [
       "1"
      ]
     },
     "execution_count": 18,
     "metadata": {},
     "output_type": "execute_result"
    }
   ],
   "source": [
    "danRer10_Z2 = SeqRecord(\n",
    "    Seq(\"CACCATTTTGGGGAAGATGAAAATTCAGTGTCCCCCTTAAGTGGCCAGCTTTTAGGCTATAGGTGACCCTCCATAAGTAGCATAAAATCGTAGGCTATTCTGGGCACCCTTTGACATCGCCACGCGTTAAACAGAGAATGGAGAGGTTATTGCGCACAGCAGGTGCGCAGAGTCGCGTCCGCTAATGGCGCTGGAGCTGCTGACAGGTCCGCTGGCGCTCTGCGGGGTGGAAGCGCTCGAAACCCCGCACAACCCCTGATTCACCCTGAGGCACAGCCAGGCCAACAACGGGCCAGTGTGATCGGAAAAGAGTTGAAAGAATCTCCGTGACACCAATGAGGAGCCAAAGACCACCTGTGAAATACATCACATGTCAGACAAAAGCATATTAAGCTGATCAAATATTGCGTGTATAACCGCATTACATCACAAAGAAAAACATTAGCTAGCTATGGGTAACTTAATAAGTGTTCTACATTTGCACTGCAGCCATGATTGTGAGCCGAAAAGGTTTGCGCAATA\"),\n",
    "    id = \"chr3:2011776-2012297\",\n",
    "    description = \"Z2 element [danRer10]\")\n",
    "SeqIO.write([danRer10_Z2], \"danRer10_Z2.faa\", \"fasta\")\n",
    "    \n"
   ]
  },
  {
   "cell_type": "code",
   "execution_count": 19,
   "id": "6fd2a643-d4ad-46a0-ada5-466a96029734",
   "metadata": {
    "tags": []
   },
   "outputs": [
    {
     "data": {
      "text/plain": [
       "1"
      ]
     },
     "execution_count": 19,
     "metadata": {},
     "output_type": "execute_result"
    }
   ],
   "source": [
    "danRer10_Z3 = SeqRecord(\n",
    "    Seq(\"AAAGCAGAATGGCATTAAACTGGAAATAAATAATAGTGTAAACAATTAACTAATAACATATATAAAACAAAACGATTTACACAAATAGCGGAGGACACATTTCAGCGGTATAAAAGAAGCCTCCCTCTTCTGACAGGCGACGCGACACACATAACAAATCACTCTTCTCAAGCAGCCACATTAAATAACAGAAGAAACAATTAACATGCACGCGCATACTAAACAGCACACATTTACAAATGTCCCTCACTGACAAACACCCCCCAGCTTGATGTTTATGTCCTATAAATGCTCGGAGACCGAGTGTCACTTTCTCCAAAGCGGGGTCTCCTCCTTCCCAAAGCCTCCCTAAGAGCAACAGGGCAAAACTCACATCAAAGTGTGCAGCAGGCCTCAGATCCGCGCGCTTTCCCGTGTACATCCACAGACCCGCGAGAACCGAGACATGTGTGCGTGTACGTTTGAAGGGACACCGAGAAAAAGACGCTCTAAAGAGAGACACACGTCTTTTCTCTTTTCTTTTCTTTTTTTATATACACAGAACTGCTTTTTGTTCCTCATTTTTTCATTTAAGAGGGTAATGGAAGGGGGGTGTTCGTTTGATCACATGATTACAATTCACCTGAGATAAAACAAAGGACGCAAAGAAAGGAGCCGAGCGCCGGAGACCGAGACAGAGAGATGCTCTCATGGTCAGGATCCCCTTATCAGAGTCAACATTCATGGATAATGAAAAAGGCAATGATTTTTGGCTTGGGTGGGGGGGCCGTCGTGAGATGGAAATACAAGAGGTTATTGTTGACCAGAACAGCGCGCGTGTTTGTGTGCGTTTGGCCCGTCGTTTGCCTCTCTTCTCGTCTTTCTATATTTTCTACTAAAGCTGTTTAAACGCGTTAAATGCGCTCTCTGTGTGTGTTTATGCGCGCTGATGCAATTATAACACTAACACACATAGCGCGACACGATGCAGGAGTTCATTCCAGTGCTGCGGGCCTGCGCGCGCAGCATGAACACACCACTGCGAGCAAATCTGCAATATTAATGAATATATATAACTAAAGTGTGCACTTTCTGGTTTATAACTGCAGCACCCCGCATACACCACAGTATAAAGTAAT\"),\n",
    "    id = \"chr3:2010031-2011148\",\n",
    "    description = \"Z3 element [danRer10]\")\n",
    "SeqIO.write([danRer10_Z3], \"danRer10_Z3.faa\", \"fasta\") \n"
   ]
  },
  {
   "cell_type": "code",
   "execution_count": 20,
   "id": "506fea7c-abc3-4c20-91ad-39bada607ff2",
   "metadata": {
    "tags": []
   },
   "outputs": [
    {
     "data": {
      "text/plain": [
       "1"
      ]
     },
     "execution_count": 20,
     "metadata": {},
     "output_type": "execute_result"
    }
   ],
   "source": [
    "danRer10_Z4 = SeqRecord(\n",
    "    Seq(\"AGGGGCGAATAATTCTGACTTCATCTGTATATATATGTGTGTGTGTGTTTCCCCGGCTCTAAGAGTGTGTCAGGTGAGTCTCCCCCACAGGTAAGGAGTGTGAGCATCAGCAGAATCATGAGCTCATGATCGCTCCAGCAGTGTGTCTGACCTTTGTGAGCGCGCTCAGTGTCTCCGAGCAGGAATTCCCCACAGCGGACAACAGGACAAAACCTCTCACTGCTACATGATCAATCCTCCACCCACTGCCCGCTGCACTTCCTGTCTCACACACACACACACACACACACACACAAGCAGAGCCAGTGCCATCAGGTGTGTGTGTGTGTGTGTGTCATGGGACATGCGTGTCCTCCTATTGACCTTCTGACCTCACAAACATCTTTCTCTGACATCCCAGAGACCATCTCCAACGGCAACCAGCCACATCATCACTGTCACATGCTGCATGACTGCGCACACACACATACAAATACACACACACACACACTTTCTCGCTC\"),\n",
    "    id = \"chr3:2007062-2007561\",\n",
    "    description = \"Z4 element [danRer10]\")\n",
    "SeqIO.write([danRer10_Z4], \"danRer10_Z4.faa\", \"fasta\")"
   ]
  },
  {
   "cell_type": "code",
   "execution_count": 21,
   "id": "dde37b24-19be-4eaf-a783-9c5507c72a21",
   "metadata": {
    "tags": []
   },
   "outputs": [
    {
     "data": {
      "text/plain": [
       "1"
      ]
     },
     "execution_count": 21,
     "metadata": {},
     "output_type": "execute_result"
    }
   ],
   "source": [
    "danRer10_Z5 = SeqRecord(\n",
    "    Seq(\"TGTTAGTCAACAACAATCTCAGAGTGATCTCAGGATTTACACATACCTGTAAACCAGGTAACCATCCCTCTCTCTCACCCTCCCTCCTCCATTAAACCCTCTGAAACCCGTATCAGCTTCCTTCAGATGTTTCTGCTGCACAATCGGGGTAACTGGACCCCTGGCGGAGGCCGCAGATATAAGTGCGGCACACAATGGCGCATTGATGGCGGTTTCTGCTGCATTCTCCGCAGCTGCAGAGGAATCCGTCCAAGAGTCCGGCGGACGCACAAAAGCCGGATTGATCAGCGGAGACGCGCGCCTGACGCAGCTGCAGCGCTTTATTAGGAGACGCTGGAGCGCGGGGCAGCAGGGGTCACGGCCGCCATTAACCCTCCATAAGACCACCGCATGCTAATGAGCGCCTCATTAATATTCATACATATGCGGGAGAATGTACAGGATTGTCGGGTGACGCATTTCTGTTCACACACAGTAGAAGTCAAAATTATTAATTCATTCTTCTTCACATATTTCCTAAATTATATTGAA\"),\n",
    "    id = \"chr3:1999602-2000132\",\n",
    "    description = \"Z5 element [danRer10]\")\n",
    "SeqIO.write([danRer10_Z5], \"danRer10_Z5.faa\", \"fasta\")\n"
   ]
  },
  {
   "cell_type": "code",
   "execution_count": 22,
   "id": "c2d03fb0-14d8-4703-90c7-025c50b877d9",
   "metadata": {
    "tags": []
   },
   "outputs": [
    {
     "data": {
      "text/plain": [
       "1"
      ]
     },
     "execution_count": 22,
     "metadata": {},
     "output_type": "execute_result"
    }
   ],
   "source": [
    "danRer10_Z6 = SeqRecord(\n",
    "    Seq(\"ACCCTTGAACCACTTAGAAGACCCTAGCAACACTATAAATTCCATAGAAACCACTCAGAAACCCCTAGCAACAACTTATATCACCCCAGCAACTATTTTGTAAACCTATTATATAAACCTAGCAACTACCAATGACACCCTAGAAACAATTTATAAGAGCCAACCTAACAACAGAACATGAGGAACTACTCAGAAGATCCTAGCAACCAATCAGAAGACTCTAGCACCACTCAAAAGGTCTGAACCATCAATAAGCAGGCTCTAGCTACCACTAAAATCGTGCTAACACCACTCAGAAGACCCTAGCAATCACTAATACCACCCTAGAACCACTGAAAACACCCTAGCAACATTATCAAACCCATAGAAACTAATCAAAAATCTTTAGCAACCACTTAAATCACCACATCAACTATTTTGAAAACCCTAGCAACCACTAATGACACCCTAGAAAACTTTTATAAGAACCAACCAAACAAATGGAAGTGACCAACTACTTAAAAGATCCTAGCAACCAATCAAAAGACTCTAGCAACCACTAGTATCATCCTAGCAACTACTCAGAAGTTCAAAACAACCAATCAGCAGGCTTTAGCAACCACTAAAATCACCCTAGCACCACTCAGAAAACCCTAGCAACCACTAATACCACCCTAGCAACTACTTAGAAGGTCAGAACAACCACTCAGCAGGCTCTAGCAACCACTAAAATTACACTAGAACACACCATAGCAAAAATGTCAACCCCATACAAACCACTCAGAAGTCATTAGCAACCTCTTATATTACCCAAAAACTATTTTGAAAACCTTAACAACCACTAATGACACCCTAGATACCTTTCATTAGAACCAACCTAACAACAGGACAACCTAACAATCAGAAGACTCTAGCAACCACTAATATCACCCTAGCAACCACTCAGATTTTCAAAACAACCAATAAGCAGGCTCTAGCAACCACGAATGCCACAATAGAACCACCCAGAACACCTTAGCAACCCCATAGAAACTACTCAGTAGTCCCTTGGAATCACTTATATCGCCCTAGCAACTATTTTGAAAACCTTAACAACCACTAATGACACCTTAGATACCTTTCATAAGAACCAACCAAACAATAGGATAACCCAACAATCAGAAAACTCTAGCAACCACTAATATCACCCTAGCAACCACTCAGAAGTTCAATACAACCAATAAGCAGGCTCAAGCAACCACTAATACCACCCTAAAACTAGAACGACTAATATCACCTCAAGCAATCAACAGAACCTAGCACCACTAAGAAGGCCTTAGCAACCCCTCGGAAAGCCCTAGGATCACTATTCAAGGCTTCTTTAGAGACAATGGCTCTGTCTGAATTTGCATACTTCCTAGTATGTAGTATGTAAAGACCGTATGCAAGCTGAGTGCTAGATCTGAATACATCGTATTGTCATAGGCTGAATGGAGTATACACTAACCTGAGCATTATTCAGCCGCAAGATGGCGCCAAACAGTCAGAAAGAGTGTATAAAAGCCAATAAACATGATCAACAGTAAACTGACTGATTGTCCCTCTTCACTACAGAGCAATCAGCAACAATCAAGAATGCATGATTATATGCTGCCATGGCTGTGCAATCAATAAATGTGATTATAATGGAAGTCAATGGGTCAAAAACAGCCCCAAACATCACCAAAGGGGAGTCAATCTGACAGGGTATTGTTGAGTTTTTGGAAATATTCAAAGCATTTTCCCAAAATATGTGTCAAAACAAGATTTGTCACCAAAAATCATCCTATTTGTGGTCAAAATAACTCTTAAAATTCCCCAGAGCTGATGAAAACGACCCAACAGCACACACACGCTACAGTGTTTTCCTCTGGACAGACTGACTGGGTGATGTGAAAGCTCTCTGCACCTGTATCCATGTGTGGTGGGCTCCTGATCATTCATTTATGCTCAGCGCTGTGAGAAACGGGCCTGAGAATCAGATGCTCTGCTCTCTGGATCAGCGTGACCTCAGAAATGAAGACGAGAGTCACAAGGCCGCGGCCGCCCGAGGGCAGAGACGTTTACGAGAGCGCAGAGACACACAGAAAGAGCCTTTTGTCGTCTGAATTCTTCCGCATCATTTTCTGCATTTCATCAGCTGTGAGTCAAACTCACCCACAAATCTCATTCCTGCCCGCTCTGTGTTTATCACATCACTCACACACACACACAACTGCTCAAATACTGATAAAAACACACACACACACACACACACTCATAAATACACACACAAGAACTCAAAAATGCTCAAACACTGATAAACACGCACACACATTCTTAAACACAC\"),\n",
    "    id = \"chr3:1988168-1990493\",\n",
    "    description = \"Z6 element [danRer10]\")\n",
    "SeqIO.write([danRer10_Z6], \"danRer10_Z6.faa\", \"fasta\")\n"
   ]
  },
  {
   "cell_type": "code",
   "execution_count": 23,
   "id": "cd6addd5-059c-4da7-a574-bfa237b74e85",
   "metadata": {
    "tags": []
   },
   "outputs": [
    {
     "data": {
      "text/plain": [
       "1"
      ]
     },
     "execution_count": 23,
     "metadata": {},
     "output_type": "execute_result"
    }
   ],
   "source": [
    "danRer10_Z7 = SeqRecord(\n",
    "    Seq(\"CATGTGGTTTGTTGTTAGTGTTTGGCTGGACGAGAGGAATAAACACTAAAGCAGCAGGTAGACAATGAAGAGAGCTGAAGATGAGGAAGAGGAAGACTCAGTTAAAGTGTTTATTCATCTGTAAATGAGGAACACAAAGGCTCTGGTCTGCTTGAGCGACCCGAACGCAGACCCACTGAATCTGAGACGCTCACAAGAACACAGATCGAGTTTCTCACTCGCTCGAGCACTCGCAGAAATCTCTTGTTTTCCTACAACTCAAGCTGTTTAAAACTTATCTCTATTCATTTTTAATCATATTTTTTAATGGTTAATCTATTTCTGTAATTTAGAAAAACTGCTTGGTTGTCTTTAGCCAGTGTTGGGTTTAATATAGACAAACCTGATGTTGGGTAAATTTTATTTGTAACAAGGTTTGTTGTAATCATGCCACTTTAAATTAATTTTTTGACCCAATGGTTGGGTTTGTCCACATTTACCCCAATGTTAAGTTAAAACAACCCAACATATTTAGAGTGCAACTGCCTGAAATCATGCATTGAAATCAGTTGAATGAATGAAATCGATTGCATTAACCATTTCCCCTCGAAATCCATTTCATACTCTCAAATGAACAACGCTATCATTTGTAAAGTATGAACCAATCACAATGGTTGGGTTAAAACAAATGTAAAATGTAGAGGCATCACTAACAACACCCTAGCAACCACTAATATTACCCTAGAGCCACTCAGAAAACCATAGCAACAGTATCAACCCCAACTACAGCAACTATTTTGAAAACCCTAGCAACCCCTAATGACACTCTAGAACCATTCATAAGAATCAACCAAACAATAGGACATGAGCAACTACACTACATGAGCAAAATCACTTTACTACCGCTGAAAAGGTCAAAATAACCAATCAGCAGGTTCTAGCAACCTGTAAAATTGCCATAGTACCACTTAAAAGACCCTAGTAACACAACCAACCCCATAGAAACCACTCAGAAATCCCTACTCCCTACAACAACTTTTATCAGCAACTACTTTGAAAACCCTAGCAA\"),\n",
    "    id = \"chr3:1986841-1987888\",\n",
    "    description = \"Z7 element [danRer10]\")\n",
    "SeqIO.write([danRer10_Z7], \"danRer10_Z7.faa\", \"fasta\")\n",
    "\n"
   ]
  },
  {
   "cell_type": "code",
   "execution_count": 24,
   "id": "826dc92f-040f-4c1a-8ed2-9a57f48e2c2a",
   "metadata": {
    "tags": []
   },
   "outputs": [
    {
     "data": {
      "text/plain": [
       "1"
      ]
     },
     "execution_count": 24,
     "metadata": {},
     "output_type": "execute_result"
    }
   ],
   "source": [
    "danRer10_Z8 = SeqRecord(\n",
    "    Seq(\"ATTTCAGGGATGTTAGAATAATGAGATATGAGAAGCCGTTCATCTCAAACTGCACATTTCACAGCACTAAAGCAGTTTGTTATGAAGCGCTCCTGTCTGTGTGTGTGTGTGTGTGTGTGTGTGTGTCGGAGTGATTTCTCATCCTCTCTGTCTTTCATCTCTCTCTCTCTCTCTCTTTCATCTGTCCATCCGTCCTCCACAACGGCTCCTTTCATTCGCTGGCTCCGCCTCTTCACCGCTGTAATTCAATGTTCCCAGAAAAACACATGATTGGAAAGTCAGTCACTCTTTACTGCCACACACACACTCTTCCTCAGAGTCTTCCTCAGCACACACACACACACTCACACACTTCCTCAGAGTCTTACTCTGTACACACACACTATTCCTCACAGCCCTCAGATTCTGTCAACACACACACACACACTCTTCCTTAGAGTCTTCCTCAAAACACTCAGTTGCTTAGTCTTCCTCAACACATATGAAGATGATGTGCAGTATTTTTGCTAAAACATAATATTAAGTAGGGGGCGGGGTTT\"),\n",
    "    id = \"chr3:1981568-1982106\",\n",
    "    description = \"Z8 element [danRer10]\")\n",
    "SeqIO.write([danRer10_Z8], \"danRer10_Z8.faa\", \"fasta\")\n",
    "    \n"
   ]
  },
  {
   "cell_type": "code",
   "execution_count": 25,
   "id": "1e0af9f5-c6fb-44a5-9577-628b8c9fd8c3",
   "metadata": {
    "tags": []
   },
   "outputs": [
    {
     "data": {
      "text/plain": [
       "1"
      ]
     },
     "execution_count": 25,
     "metadata": {},
     "output_type": "execute_result"
    }
   ],
   "source": [
    "danRer10_Z9 = SeqRecord(\n",
    "    Seq(\"CTGTTATACTACAGTATTTATTAGTTTATCAGTTCACTACGGTTATTACAACAGTATACTGAAGTATTCATTAACAAAGAGCTGTAGACACTATAATATCTATAATACACTTGAATGTAGTATAATTCAACACACTATATAATATACTATACATTACTTCGCAGGTTTTGTCTGAATTTTCTATTGTAAATTCTTGGTTAATAAGTCATTGAAATAAATTAAGTAGTCTACTACAATTTAAACATAAGTGAGTGAGAGAGGGAGGGAGGGAGGCAGAGAGAGAGAGAGAGATGATGAAACTGATAGTGCTGTATTGTGTGGGTCAGAAACAGAGGCTCATTGTCAGTCTTCTCTGCCCCCTGCACTGCTAATTATGTGCTGTTCCCCTCCGTTCGTCCATCTCTCCATCTCTCTCCTTCATCTCCATTCTCTGCAGCGCTGCTTCCTGTGGCTCCAGATCTCCTCGCTCTCCTTCTGTCCATATAATCCCGCATCTACAGCACTGCTCACTCCACAACTAATGTACAGAAAACATACAAAACACACTTTTACAGGCACGGTCAGCCCACTAAATGAAAATTCACTCACTATTTACCCTTTTTCCACTTGTTTTAAAACTTTTATGAGTTGAACACAGAGACAGATATTTTGAAGAATGCTAAAAACATGTAAACACTGACACTGACAAATACTCTGGAAATCAATGGTTACAGGTTTACAGAGGTTAACAGAAGAAAGAAACTTAAACCGGTTTGAAACAAGTAAAGGTAC\"),\n",
    "    id = \"chr3:1977634-1978404\",\n",
    "    description = \"Z9 element [danRer10]\")\n",
    "SeqIO.write([danRer10_Z9], \"danRer10_Z9.faa\", \"fasta\")\n"
   ]
  },
  {
   "cell_type": "code",
   "execution_count": 26,
   "id": "670cb7a9-836e-49d7-b509-e6f0f3e38162",
   "metadata": {
    "tags": []
   },
   "outputs": [
    {
     "data": {
      "text/plain": [
       "1"
      ]
     },
     "execution_count": 26,
     "metadata": {},
     "output_type": "execute_result"
    }
   ],
   "source": [
    "danRer10_Z10 = SeqRecord(\n",
    "    Seq(\"AACAGCAGAATTAATCTAATATTCAGAATATTGTTTAAGTGAGCAGAGCCGGTCTCTGTGGTATAATGTGATGAACACTATAATACTGCCGTAATGTGCTGTGTGTGTGTGTGTGTGTGTGTAGGGTTGAGCGGGTCACAGCAGCGTCTGATGTGCAGATCACAGGCTCTCCATTAACCTCCTGATGGACAAGAGTCTGGGAGAGAGAGAGAAAGAGACCTGCCTGAGGGAGAGAGAGATGAGAGATGAGATTATCACATCACATTATTACAATTAGAAAAAGTTTTACCAATAAAAAACTGAACACACTCCATCTTACACGAACGTAACAACAAAGCAGAACGCA\"),\n",
    "    id = \"chr3:1976400-1976745\",\n",
    "    description = \"Z10 element [danRer10]\")\n",
    "SeqIO.write([danRer10_Z10], \"danRer10_Z10.faa\", \"fasta\")\n",
    "\n"
   ]
  },
  {
   "cell_type": "code",
   "execution_count": 49,
   "id": "366a4f0b-1ed1-4294-9ee8-6328a67512f8",
   "metadata": {
    "tags": []
   },
   "outputs": [],
   "source": [
    "#read in the fasta files\n",
    "Z1 = SeqIO.read(\"danRer10_Z1.faa\", \"fasta\")\n",
    "Z2 = SeqIO.read(\"danRer10_Z2.faa\", \"fasta\")\n",
    "Z3 = SeqIO.read(\"danRer10_Z3.faa\", \"fasta\")\n",
    "Z4 = SeqIO.read(\"danRer10_Z4.faa\", \"fasta\")\n",
    "Z5 = SeqIO.read(\"danRer10_Z5.faa\", \"fasta\")\n",
    "Z6 = SeqIO.read(\"danRer10_Z6.faa\", \"fasta\")\n",
    "Z7 = SeqIO.read(\"danRer10_Z7.faa\", \"fasta\")\n",
    "Z8 = SeqIO.read(\"danRer10_Z8.faa\", \"fasta\")\n",
    "Z9 = SeqIO.read(\"danRer10_Z9.faa\", \"fasta\")\n",
    "Z10 = SeqIO.read(\"danRer10_Z10.faa\", \"fasta\")"
   ]
  },
  {
   "cell_type": "code",
   "execution_count": 50,
   "id": "7699c2b1-0cb1-483c-9234-e77844d44147",
   "metadata": {
    "tags": []
   },
   "outputs": [],
   "source": [
    "#make a list called zebrafish_element_files to hold the files\n",
    "zebrafish_element_files = [Z1, Z2, Z3, Z4, Z5, Z6, Z7, Z8, Z9, Z10]\n"
   ]
  },
  {
   "cell_type": "markdown",
   "id": "350339bd",
   "metadata": {},
   "source": [
    "# Functions to find binding sites\n",
    "The following code defines two functions to find Sox and Pax3 binding sites within the putative enhancer sequences. It prints the number of times the binding sites occur in each sequence and where they are positioned."
   ]
  },
  {
   "cell_type": "code",
   "execution_count": 202,
   "id": "62022df0-185f-4295-a1fc-6f74b8154dda",
   "metadata": {},
   "outputs": [],
   "source": [
    "#the Sox consensus sequence is (A/T)(A/T)CAA(A/T)G \n",
    "#defining a function that searches for the Sox10 binding sites (all its possible variations)\n",
    "#within a file that you give it \n",
    "#it also counts how many times a binding site is present, and gives their positions within the sequence \n",
    "def check_for_Soxsites(file):\n",
    "    Soxsites = [\"AACAAAG\", \"TACAAAG\", \"ATCAAAG\", \"AACAATG\", \"TTCAAAG\", \"ATCAATG\", \"TACAATG\", \"TTCAATG\"]\n",
    "    \n",
    "    #the occurences of the Sox binding site are appended to this list\n",
    "    Soxoccurrences = []\n",
    "    \n",
    "    for site in Soxsites:\n",
    "         # this returns -1 if a Sox site is not present\n",
    "        index = file.seq.find(site) \n",
    "\n",
    "        #if it does not return -1, add position of site to Soxoccurences\n",
    "        while index != -1:\n",
    "            Soxoccurrences.append(index)\n",
    "            #then repeats starting from the last occurence of a binding site\n",
    "            index = file.seq.find(site, index + 1) \n",
    "    ##print out a description of the file and its number of Sox sites present\n",
    "    print(\"ID: \", file.id)\n",
    "    print(\"desc: \", file.description)\n",
    "    print(\"length: \", len(file.seq))\n",
    "    print(\"occurrences: \", len(Soxoccurrences))\n",
    "    print(\"indices: \", Soxoccurrences)\n",
    "    print()\n",
    "    \n",
    "    return len(Soxoccurrences)\n",
    "    \n",
    "    \n",
    "   "
   ]
  },
  {
   "cell_type": "code",
   "execution_count": 203,
   "id": "92c0fd09",
   "metadata": {},
   "outputs": [],
   "source": [
    "#the paired box PAX3 binding site sequence is TCACG(C/G)\n",
    "#define a function that looks for Pax3 binding sequences in the enhancers\n",
    "#Pax3 binds to 2 sites together, so here the longer of the two is used as a proxy\n",
    "def check_for_Pax3sites(file):\n",
    "    Pax3sites = [\"TCACGC\", \"TCACGG\"]\n",
    "    \n",
    "    Paxoccurrences = []\n",
    "    \n",
    "    for site in Pax3sites:\n",
    "        index = file.seq.find(site) \n",
    "\n",
    "        while index != -1:\n",
    "            Paxoccurrences.append(index)\n",
    "            index = file.seq.find(site, index + 1) \n",
    "\n",
    "   #print out a description of the file and its number of Pax3 sites present\n",
    "    print(\"ID: \", file.id)\n",
    "    print(\"desc: \", file.description)\n",
    "    print(\"length: \", len(file.seq))\n",
    "    print(\"occurrences: \", len(Paxoccurrences))\n",
    "    print(\"indices: \", Paxoccurrences)\n",
    "    print()\n",
    "\n",
    "    return len(Paxoccurrences)\n",
    "    \n",
    "    \n"
   ]
  },
  {
   "cell_type": "code",
   "execution_count": 204,
   "id": "ddda531d",
   "metadata": {},
   "outputs": [
    {
     "name": "stdout",
     "output_type": "stream",
     "text": [
      "ID:  chr3:2012885-2013346\n",
      "desc:  chr3:2012885-2013346 Z1 element [danRer10]\n",
      "length:  462\n",
      "occurrences:  0\n",
      "indices:  []\n",
      "\n",
      "ID:  chr3:2012885-2013346\n",
      "desc:  chr3:2012885-2013346 Z1 element [danRer10]\n",
      "length:  462\n",
      "occurrences:  0\n",
      "indices:  []\n",
      "\n",
      "ID:  chr3:2011776-2012297\n",
      "desc:  chr3:2011776-2012297 Z2 element [danRer10]\n",
      "length:  522\n",
      "occurrences:  0\n",
      "indices:  []\n",
      "\n",
      "ID:  chr3:2011776-2012297\n",
      "desc:  chr3:2011776-2012297 Z2 element [danRer10]\n",
      "length:  522\n",
      "occurrences:  0\n",
      "indices:  []\n",
      "\n",
      "ID:  chr3:2010031-2011148\n",
      "desc:  chr3:2010031-2011148 Z3 element [danRer10]\n",
      "length:  1118\n",
      "occurrences:  2\n",
      "indices:  [631, 373]\n",
      "\n",
      "ID:  chr3:2010031-2011148\n",
      "desc:  chr3:2010031-2011148 Z3 element [danRer10]\n",
      "length:  1118\n",
      "occurrences:  0\n",
      "indices:  []\n",
      "\n",
      "ID:  chr3:2007062-2007561\n",
      "desc:  chr3:2007062-2007561 Z4 element [danRer10]\n",
      "length:  500\n",
      "occurrences:  0\n",
      "indices:  []\n",
      "\n",
      "ID:  chr3:2007062-2007561\n",
      "desc:  chr3:2007062-2007561 Z4 element [danRer10]\n",
      "length:  500\n",
      "occurrences:  0\n",
      "indices:  []\n",
      "\n",
      "ID:  chr3:1999602-2000132\n",
      "desc:  chr3:1999602-2000132 Z5 element [danRer10]\n",
      "length:  531\n",
      "occurrences:  0\n",
      "indices:  []\n",
      "\n",
      "ID:  chr3:1999602-2000132\n",
      "desc:  chr3:1999602-2000132 Z5 element [danRer10]\n",
      "length:  531\n",
      "occurrences:  1\n",
      "indices:  [355]\n",
      "\n",
      "ID:  chr3:1988168-1990493\n",
      "desc:  chr3:1988168-1990493 Z6 element [danRer10]\n",
      "length:  2326\n",
      "occurrences:  1\n",
      "indices:  [1727]\n",
      "\n",
      "ID:  chr3:1988168-1990493\n",
      "desc:  chr3:1988168-1990493 Z6 element [danRer10]\n",
      "length:  2326\n",
      "occurrences:  0\n",
      "indices:  []\n",
      "\n",
      "ID:  chr3:1986841-1987888\n",
      "desc:  chr3:1986841-1987888 Z7 element [danRer10]\n",
      "length:  1048\n",
      "occurrences:  0\n",
      "indices:  []\n",
      "\n",
      "ID:  chr3:1986841-1987888\n",
      "desc:  chr3:1986841-1987888 Z7 element [danRer10]\n",
      "length:  1048\n",
      "occurrences:  0\n",
      "indices:  []\n",
      "\n",
      "ID:  chr3:1981568-1982106\n",
      "desc:  chr3:1981568-1982106 Z8 element [danRer10]\n",
      "length:  539\n",
      "occurrences:  1\n",
      "indices:  [244]\n",
      "\n",
      "ID:  chr3:1981568-1982106\n",
      "desc:  chr3:1981568-1982106 Z8 element [danRer10]\n",
      "length:  539\n",
      "occurrences:  0\n",
      "indices:  []\n",
      "\n",
      "ID:  chr3:1977634-1978404\n",
      "desc:  chr3:1977634-1978404 Z9 element [danRer10]\n",
      "length:  771\n",
      "occurrences:  2\n",
      "indices:  [72, 699]\n",
      "\n",
      "ID:  chr3:1977634-1978404\n",
      "desc:  chr3:1977634-1978404 Z9 element [danRer10]\n",
      "length:  771\n",
      "occurrences:  0\n",
      "indices:  []\n",
      "\n",
      "ID:  chr3:1976400-1976745\n",
      "desc:  chr3:1976400-1976745 Z10 element [danRer10]\n",
      "length:  346\n",
      "occurrences:  1\n",
      "indices:  [330]\n",
      "\n",
      "ID:  chr3:1976400-1976745\n",
      "desc:  chr3:1976400-1976745 Z10 element [danRer10]\n",
      "length:  346\n",
      "occurrences:  0\n",
      "indices:  []\n",
      "\n",
      "['Z1', 'Z1', 'Z2', 'Z2', 'Z3', 'Z3', 'Z4', 'Z4', 'Z5', 'Z5', 'Z6', 'Z6', 'Z7', 'Z7', 'Z8', 'Z8', 'Z9', 'Z9', 'Z10', 'Z10']\n",
      "['Sox', 'Pax3', 'Sox', 'Pax3', 'Sox', 'Pax3', 'Sox', 'Pax3', 'Sox', 'Pax3', 'Sox', 'Pax3', 'Sox', 'Pax3', 'Sox', 'Pax3', 'Sox', 'Pax3', 'Sox', 'Pax3']\n",
      "[0, 0, 0, 0, 2, 0, 0, 0, 0, 1, 1, 0, 0, 0, 1, 0, 2, 0, 1, 0]\n"
     ]
    }
   ],
   "source": [
    "#for each sequence file I wrote previously\n",
    "#the number of occurences of Sox and Pax sequences, \n",
    "#the name of the putative enhancer,\n",
    "#and the type of binding site searched for are added to a list\n",
    "number_occurences = []\n",
    "binding_sites = []\n",
    "put_enhancers = []\n",
    "\n",
    "#\n",
    "for file in zebrafish_element_files:\n",
    "    enhancer = file.description.split(\" \")[1]\n",
    "    #the file descriptors have several elements, but I just want the 'Z' element\n",
    "    #this separates it out for use in the graph later on\n",
    "    \n",
    "    number_occurences.append(check_for_Soxsites(file))\n",
    "    binding_sites.append(\"Sox\")\n",
    "    put_enhancers.append(enhancer)\n",
    "    \n",
    "    \n",
    "    number_occurences.append(check_for_Pax3sites(file))\n",
    "    binding_sites.append(\"Pax3\")\n",
    "    put_enhancers.append(enhancer)\n",
    "    \n",
    "    \n",
    "print(put_enhancers)  \n",
    "print(binding_sites)\n",
    "print(number_occurences)\n"
   ]
  },
  {
   "cell_type": "markdown",
   "id": "0d1a5b9a",
   "metadata": {},
   "source": [
    "# Visualisation of the results\n",
    "The results are plotted on a bar chart to make it easier to see immediately which putative enhancer sequences contain which binding sites."
   ]
  },
  {
   "cell_type": "code",
   "execution_count": 118,
   "id": "1722e198",
   "metadata": {},
   "outputs": [],
   "source": [
    "import seaborn as sns\n",
    "import pandas as pd"
   ]
  },
  {
   "cell_type": "code",
   "execution_count": 207,
   "id": "9dc11568",
   "metadata": {},
   "outputs": [
    {
     "data": {
      "text/html": [
       "<div>\n",
       "<style scoped>\n",
       "    .dataframe tbody tr th:only-of-type {\n",
       "        vertical-align: middle;\n",
       "    }\n",
       "\n",
       "    .dataframe tbody tr th {\n",
       "        vertical-align: top;\n",
       "    }\n",
       "\n",
       "    .dataframe thead th {\n",
       "        text-align: right;\n",
       "    }\n",
       "</style>\n",
       "<table border=\"1\" class=\"dataframe\">\n",
       "  <thead>\n",
       "    <tr style=\"text-align: right;\">\n",
       "      <th></th>\n",
       "      <th>Putative Enhancer</th>\n",
       "      <th>Binding Site</th>\n",
       "      <th>Occurences</th>\n",
       "    </tr>\n",
       "  </thead>\n",
       "  <tbody>\n",
       "    <tr>\n",
       "      <th>0</th>\n",
       "      <td>Z1</td>\n",
       "      <td>Sox</td>\n",
       "      <td>0</td>\n",
       "    </tr>\n",
       "    <tr>\n",
       "      <th>1</th>\n",
       "      <td>Z1</td>\n",
       "      <td>Pax3</td>\n",
       "      <td>0</td>\n",
       "    </tr>\n",
       "    <tr>\n",
       "      <th>2</th>\n",
       "      <td>Z2</td>\n",
       "      <td>Sox</td>\n",
       "      <td>0</td>\n",
       "    </tr>\n",
       "    <tr>\n",
       "      <th>3</th>\n",
       "      <td>Z2</td>\n",
       "      <td>Pax3</td>\n",
       "      <td>0</td>\n",
       "    </tr>\n",
       "    <tr>\n",
       "      <th>4</th>\n",
       "      <td>Z3</td>\n",
       "      <td>Sox</td>\n",
       "      <td>2</td>\n",
       "    </tr>\n",
       "    <tr>\n",
       "      <th>5</th>\n",
       "      <td>Z3</td>\n",
       "      <td>Pax3</td>\n",
       "      <td>0</td>\n",
       "    </tr>\n",
       "    <tr>\n",
       "      <th>6</th>\n",
       "      <td>Z4</td>\n",
       "      <td>Sox</td>\n",
       "      <td>0</td>\n",
       "    </tr>\n",
       "    <tr>\n",
       "      <th>7</th>\n",
       "      <td>Z4</td>\n",
       "      <td>Pax3</td>\n",
       "      <td>0</td>\n",
       "    </tr>\n",
       "    <tr>\n",
       "      <th>8</th>\n",
       "      <td>Z5</td>\n",
       "      <td>Sox</td>\n",
       "      <td>0</td>\n",
       "    </tr>\n",
       "    <tr>\n",
       "      <th>9</th>\n",
       "      <td>Z5</td>\n",
       "      <td>Pax3</td>\n",
       "      <td>1</td>\n",
       "    </tr>\n",
       "    <tr>\n",
       "      <th>10</th>\n",
       "      <td>Z6</td>\n",
       "      <td>Sox</td>\n",
       "      <td>1</td>\n",
       "    </tr>\n",
       "    <tr>\n",
       "      <th>11</th>\n",
       "      <td>Z6</td>\n",
       "      <td>Pax3</td>\n",
       "      <td>0</td>\n",
       "    </tr>\n",
       "    <tr>\n",
       "      <th>12</th>\n",
       "      <td>Z7</td>\n",
       "      <td>Sox</td>\n",
       "      <td>0</td>\n",
       "    </tr>\n",
       "    <tr>\n",
       "      <th>13</th>\n",
       "      <td>Z7</td>\n",
       "      <td>Pax3</td>\n",
       "      <td>0</td>\n",
       "    </tr>\n",
       "    <tr>\n",
       "      <th>14</th>\n",
       "      <td>Z8</td>\n",
       "      <td>Sox</td>\n",
       "      <td>1</td>\n",
       "    </tr>\n",
       "    <tr>\n",
       "      <th>15</th>\n",
       "      <td>Z8</td>\n",
       "      <td>Pax3</td>\n",
       "      <td>0</td>\n",
       "    </tr>\n",
       "    <tr>\n",
       "      <th>16</th>\n",
       "      <td>Z9</td>\n",
       "      <td>Sox</td>\n",
       "      <td>2</td>\n",
       "    </tr>\n",
       "    <tr>\n",
       "      <th>17</th>\n",
       "      <td>Z9</td>\n",
       "      <td>Pax3</td>\n",
       "      <td>0</td>\n",
       "    </tr>\n",
       "    <tr>\n",
       "      <th>18</th>\n",
       "      <td>Z10</td>\n",
       "      <td>Sox</td>\n",
       "      <td>1</td>\n",
       "    </tr>\n",
       "    <tr>\n",
       "      <th>19</th>\n",
       "      <td>Z10</td>\n",
       "      <td>Pax3</td>\n",
       "      <td>0</td>\n",
       "    </tr>\n",
       "  </tbody>\n",
       "</table>\n",
       "</div>"
      ],
      "text/plain": [
       "   Putative Enhancer Binding Site  Occurences\n",
       "0                 Z1          Sox           0\n",
       "1                 Z1         Pax3           0\n",
       "2                 Z2          Sox           0\n",
       "3                 Z2         Pax3           0\n",
       "4                 Z3          Sox           2\n",
       "5                 Z3         Pax3           0\n",
       "6                 Z4          Sox           0\n",
       "7                 Z4         Pax3           0\n",
       "8                 Z5          Sox           0\n",
       "9                 Z5         Pax3           1\n",
       "10                Z6          Sox           1\n",
       "11                Z6         Pax3           0\n",
       "12                Z7          Sox           0\n",
       "13                Z7         Pax3           0\n",
       "14                Z8          Sox           1\n",
       "15                Z8         Pax3           0\n",
       "16                Z9          Sox           2\n",
       "17                Z9         Pax3           0\n",
       "18               Z10          Sox           1\n",
       "19               Z10         Pax3           0"
      ]
     },
     "execution_count": 207,
     "metadata": {},
     "output_type": "execute_result"
    }
   ],
   "source": [
    "d={\"Putative Enhancer\": put_enhancers, \n",
    "    \"Binding Site\":binding_sites, \n",
    "    \"Occurences\": number_occurences}\n",
    "\n",
    "dataframe = pd.DataFrame(data=d)\n",
    "#view the data in a table \n",
    "dataframe\n"
   ]
  },
  {
   "cell_type": "code",
   "execution_count": 208,
   "id": "48100903",
   "metadata": {},
   "outputs": [
    {
     "name": "stderr",
     "output_type": "stream",
     "text": [
      "C:\\Users\\jenni\\anaconda3\\Lib\\site-packages\\seaborn\\axisgrid.py:118: UserWarning: The figure layout has changed to tight\n",
      "  self._figure.tight_layout(*args, **kwargs)\n"
     ]
    },
    {
     "data": {
      "text/plain": [
       "<seaborn.axisgrid.FacetGrid at 0x2c5e1a7d6d0>"
      ]
     },
     "execution_count": 208,
     "metadata": {},
     "output_type": "execute_result"
    },
    {
     "data": {
      "image/png": "[encoded data removed]",
      "text/plain": [
       "<Figure size 1294.74x400 with 1 Axes>"
      ]
     },
     "metadata": {},
     "output_type": "display_data"
    }
   ],
   "source": [
    "#making a bar chart to show the number of times a Sox/Pax3 binding site appears in a putative enhancer sequence\n",
    "#the graph is made using the lists made above\n",
    "#so will still work if the functions are used on different files\n",
    "sns.catplot(x='Putative Enhancer', y='Occurences', hue='Binding Site', data=dataframe, kind='bar', height=4, aspect=3, palette=\"muted\")"
   ]
  }
 ],
 "metadata": {
  "kernelspec": {
   "display_name": "Python 3 (ipykernel)",
   "language": "python",
   "name": "python3"
  },
  "language_info": {
   "codemirror_mode": {
    "name": "ipython",
    "version": 3
   },
   "file_extension": ".py",
   "mimetype": "text/x-python",
   "name": "python",
   "nbconvert_exporter": "python",
   "pygments_lexer": "ipython3",
   "version": "3.11.5"
  }
 },
 "nbformat": 4,
 "nbformat_minor": 5
}
